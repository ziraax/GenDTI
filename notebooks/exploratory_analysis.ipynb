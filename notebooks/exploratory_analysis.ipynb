{
 "cells": [
  {
   "cell_type": "code",
   "execution_count": 3,
   "id": "e55a2f61",
   "metadata": {},
   "outputs": [],
   "source": [
    "# Libs\n",
    "import pandas as pd\n",
    "import matplotlib.pyplot as plt\n",
    "import seaborn as sns\n",
    "\n",
    "# Data import \n",
    "df = pd.read_csv(\"../data/raw/BindingDB_BindingDB_Articles.tsv\", sep=\"\\t\", low_memory=False, on_bad_lines='skip')"
   ]
  },
  {
   "cell_type": "code",
   "execution_count": 4,
   "id": "dd801309",
   "metadata": {},
   "outputs": [
    {
     "data": {
      "text/plain": [
       "(91745, 103)"
      ]
     },
     "execution_count": 4,
     "metadata": {},
     "output_type": "execute_result"
    }
   ],
   "source": [
    "df.shape"
   ]
  },
  {
   "cell_type": "code",
   "execution_count": 5,
   "id": "69e57e3c",
   "metadata": {},
   "outputs": [
    {
     "name": "stdout",
     "output_type": "stream",
     "text": [
      "<class 'pandas.core.frame.DataFrame'>\n",
      "RangeIndex: 91745 entries, 0 to 91744\n",
      "Columns: 103 entries, BindingDB Reactant_set_id to Unnamed: 102\n",
      "dtypes: float64(29), int64(3), object(71)\n",
      "memory usage: 72.1+ MB\n"
     ]
    }
   ],
   "source": [
    "df.head(5)\n",
    "df.info()"
   ]
  },
  {
   "cell_type": "code",
   "execution_count": 6,
   "id": "449a374e",
   "metadata": {},
   "outputs": [
    {
     "data": {
      "text/html": [
       "<div>\n",
       "<style scoped>\n",
       "    .dataframe tbody tr th:only-of-type {\n",
       "        vertical-align: middle;\n",
       "    }\n",
       "\n",
       "    .dataframe tbody tr th {\n",
       "        vertical-align: top;\n",
       "    }\n",
       "\n",
       "    .dataframe thead th {\n",
       "        text-align: right;\n",
       "    }\n",
       "</style>\n",
       "<table border=\"1\" class=\"dataframe\">\n",
       "  <thead>\n",
       "    <tr style=\"text-align: right;\">\n",
       "      <th></th>\n",
       "      <th>Ligand SMILES</th>\n",
       "      <th>BindingDB Target Chain Sequence</th>\n",
       "      <th>IC50 (nM)</th>\n",
       "      <th>Ki (nM)</th>\n",
       "      <th>Kd (nM)</th>\n",
       "      <th>affinity_nM</th>\n",
       "      <th>binary_label</th>\n",
       "    </tr>\n",
       "  </thead>\n",
       "  <tbody>\n",
       "    <tr>\n",
       "      <th>91701</th>\n",
       "      <td>CC[C@H]1C[C@@H]2C[C@@H]3[C@H]1N(C2)CCc1c3[nH]c...</td>\n",
       "      <td>MNTSAPPAVSPNITVLAPGKGPWQVAFIGITTGLLSLATVTGNLLV...</td>\n",
       "      <td>NaN</td>\n",
       "      <td>22486.00</td>\n",
       "      <td>NaN</td>\n",
       "      <td>22486.00</td>\n",
       "      <td>0</td>\n",
       "    </tr>\n",
       "    <tr>\n",
       "      <th>91702</th>\n",
       "      <td>CC[C@H]1C[C@@H]2C[C@@H]3[C@H]1N(C2)CCc1c3[nH]c...</td>\n",
       "      <td>MNNSTNSSNNSLALTSPYKTFEVVFIVLVAGSLSLVTIIGNILVMV...</td>\n",
       "      <td>NaN</td>\n",
       "      <td>39409.00</td>\n",
       "      <td>NaN</td>\n",
       "      <td>39409.00</td>\n",
       "      <td>0</td>\n",
       "    </tr>\n",
       "    <tr>\n",
       "      <th>91703</th>\n",
       "      <td>CC[C@H]1C[C@@H]2C[C@@H]3[C@H]1N(C2)CCc1c3[nH]c...</td>\n",
       "      <td>MTLHNNSTTSPLFPNISSSWIHSPSDAGLPPGTVTHFGSYNVSRAA...</td>\n",
       "      <td>NaN</td>\n",
       "      <td>12500.00</td>\n",
       "      <td>NaN</td>\n",
       "      <td>12500.00</td>\n",
       "      <td>0</td>\n",
       "    </tr>\n",
       "    <tr>\n",
       "      <th>91705</th>\n",
       "      <td>CC[C@H]1C[C@@H]2C[C@@H]3[C@H]1N(C2)CCc1c3[nH]c...</td>\n",
       "      <td>MGRVGYWTLLVLPALLVWRGPAPSAAAEKGPPALNIAVMLGHSHDV...</td>\n",
       "      <td>NaN</td>\n",
       "      <td>2001.00</td>\n",
       "      <td>NaN</td>\n",
       "      <td>2001.00</td>\n",
       "      <td>0</td>\n",
       "    </tr>\n",
       "    <tr>\n",
       "      <th>91732</th>\n",
       "      <td>COC(=O)[C@@H]1C[C@H](OC(C)=O)C(=O)[C@H]2[C@@]1...</td>\n",
       "      <td>MDSPIQIFRGEPGPTCAPSACLPPNSSAWFPGWAEPDSNGSAGSED...</td>\n",
       "      <td>NaN</td>\n",
       "      <td>4.30</td>\n",
       "      <td>NaN</td>\n",
       "      <td>4.30</td>\n",
       "      <td>1</td>\n",
       "    </tr>\n",
       "    <tr>\n",
       "      <th>91740</th>\n",
       "      <td>CN1CC[C@@]23[C@H]4Oc5c2c(C[C@@H]1[C@@H]3C=C[C@...</td>\n",
       "      <td>MEPAPSAGAELQPPLFANASDAYPSACPSAGANASGPPGARSASSL...</td>\n",
       "      <td>NaN</td>\n",
       "      <td>1545.00</td>\n",
       "      <td>NaN</td>\n",
       "      <td>1545.00</td>\n",
       "      <td>0</td>\n",
       "    </tr>\n",
       "    <tr>\n",
       "      <th>91741</th>\n",
       "      <td>CN1CC[C@@]23[C@H]4Oc5c2c(C[C@@H]1[C@@H]3C=C[C@...</td>\n",
       "      <td>MDSPIQIFRGEPGPTCAPSACLPPNSSAWFPGWAEPDSNGSAGSED...</td>\n",
       "      <td>NaN</td>\n",
       "      <td>50.00</td>\n",
       "      <td>NaN</td>\n",
       "      <td>50.00</td>\n",
       "      <td>1</td>\n",
       "    </tr>\n",
       "    <tr>\n",
       "      <th>91742</th>\n",
       "      <td>CN1CC[C@@]23[C@H]4Oc5c2c(C[C@@H]1[C@@H]3C=C[C@...</td>\n",
       "      <td>MDSSAAPTNASNCTDALAYSSCSPAPSPGSWVNLSHLDGNLSDPCG...</td>\n",
       "      <td>NaN</td>\n",
       "      <td>0.81</td>\n",
       "      <td>NaN</td>\n",
       "      <td>0.81</td>\n",
       "      <td>1</td>\n",
       "    </tr>\n",
       "    <tr>\n",
       "      <th>91743</th>\n",
       "      <td>CCCCCc1cc(O)c2[C@@H]3C=C(C)CC[C@H]3C(C)(C)Oc2c1</td>\n",
       "      <td>MKSILDGLADTTFRTITTDLLYVGSNDIQYEDIKGDMASKLGYFPQ...</td>\n",
       "      <td>NaN</td>\n",
       "      <td>10.19</td>\n",
       "      <td>NaN</td>\n",
       "      <td>10.19</td>\n",
       "      <td>1</td>\n",
       "    </tr>\n",
       "    <tr>\n",
       "      <th>91744</th>\n",
       "      <td>CCCCCc1cc(O)c2[C@@H]3C=C(C)CC[C@H]3C(C)(C)Oc2c1</td>\n",
       "      <td>MEECWVTEIANGSKDGLDSNPMKDYMILSGPQKTAVAVLCTLLGLL...</td>\n",
       "      <td>NaN</td>\n",
       "      <td>16.85</td>\n",
       "      <td>NaN</td>\n",
       "      <td>16.85</td>\n",
       "      <td>1</td>\n",
       "    </tr>\n",
       "  </tbody>\n",
       "</table>\n",
       "</div>"
      ],
      "text/plain": [
       "                                           Ligand SMILES  \\\n",
       "91701  CC[C@H]1C[C@@H]2C[C@@H]3[C@H]1N(C2)CCc1c3[nH]c...   \n",
       "91702  CC[C@H]1C[C@@H]2C[C@@H]3[C@H]1N(C2)CCc1c3[nH]c...   \n",
       "91703  CC[C@H]1C[C@@H]2C[C@@H]3[C@H]1N(C2)CCc1c3[nH]c...   \n",
       "91705  CC[C@H]1C[C@@H]2C[C@@H]3[C@H]1N(C2)CCc1c3[nH]c...   \n",
       "91732  COC(=O)[C@@H]1C[C@H](OC(C)=O)C(=O)[C@H]2[C@@]1...   \n",
       "91740  CN1CC[C@@]23[C@H]4Oc5c2c(C[C@@H]1[C@@H]3C=C[C@...   \n",
       "91741  CN1CC[C@@]23[C@H]4Oc5c2c(C[C@@H]1[C@@H]3C=C[C@...   \n",
       "91742  CN1CC[C@@]23[C@H]4Oc5c2c(C[C@@H]1[C@@H]3C=C[C@...   \n",
       "91743    CCCCCc1cc(O)c2[C@@H]3C=C(C)CC[C@H]3C(C)(C)Oc2c1   \n",
       "91744    CCCCCc1cc(O)c2[C@@H]3C=C(C)CC[C@H]3C(C)(C)Oc2c1   \n",
       "\n",
       "                         BindingDB Target Chain Sequence  IC50 (nM)   Ki (nM)  \\\n",
       "91701  MNTSAPPAVSPNITVLAPGKGPWQVAFIGITTGLLSLATVTGNLLV...        NaN  22486.00   \n",
       "91702  MNNSTNSSNNSLALTSPYKTFEVVFIVLVAGSLSLVTIIGNILVMV...        NaN  39409.00   \n",
       "91703  MTLHNNSTTSPLFPNISSSWIHSPSDAGLPPGTVTHFGSYNVSRAA...        NaN  12500.00   \n",
       "91705  MGRVGYWTLLVLPALLVWRGPAPSAAAEKGPPALNIAVMLGHSHDV...        NaN   2001.00   \n",
       "91732  MDSPIQIFRGEPGPTCAPSACLPPNSSAWFPGWAEPDSNGSAGSED...        NaN      4.30   \n",
       "91740  MEPAPSAGAELQPPLFANASDAYPSACPSAGANASGPPGARSASSL...        NaN   1545.00   \n",
       "91741  MDSPIQIFRGEPGPTCAPSACLPPNSSAWFPGWAEPDSNGSAGSED...        NaN     50.00   \n",
       "91742  MDSSAAPTNASNCTDALAYSSCSPAPSPGSWVNLSHLDGNLSDPCG...        NaN      0.81   \n",
       "91743  MKSILDGLADTTFRTITTDLLYVGSNDIQYEDIKGDMASKLGYFPQ...        NaN     10.19   \n",
       "91744  MEECWVTEIANGSKDGLDSNPMKDYMILSGPQKTAVAVLCTLLGLL...        NaN     16.85   \n",
       "\n",
       "       Kd (nM)  affinity_nM  binary_label  \n",
       "91701      NaN     22486.00             0  \n",
       "91702      NaN     39409.00             0  \n",
       "91703      NaN     12500.00             0  \n",
       "91705      NaN      2001.00             0  \n",
       "91732      NaN         4.30             1  \n",
       "91740      NaN      1545.00             0  \n",
       "91741      NaN        50.00             1  \n",
       "91742      NaN         0.81             1  \n",
       "91743      NaN        10.19             1  \n",
       "91744      NaN        16.85             1  "
      ]
     },
     "execution_count": 6,
     "metadata": {},
     "output_type": "execute_result"
    }
   ],
   "source": [
    "# Interesting columns \n",
    "cols = [\"Ligand SMILES\", \"BindingDB Target Chain Sequence\", \"IC50 (nM)\", \"Ki (nM)\", \"Kd (nM)\"]\n",
    "df = df[cols]\n",
    "\n",
    "for col in [\"IC50 (nM)\", \"Ki (nM)\", \"Kd (nM)\"]:\n",
    "    df[col] = pd.to_numeric(df[col], errors='coerce')\n",
    "\n",
    "# Assign the first available non-null value from IC50, Ki, or Kd\n",
    "df[\"affinity_nM\"] = df[\"IC50 (nM)\"]\n",
    "df[\"affinity_nM\"] = df[\"affinity_nM\"].combine_first(df[\"Ki (nM)\"])\n",
    "df[\"affinity_nM\"] = df[\"affinity_nM\"].combine_first(df[\"Kd (nM)\"])\n",
    "\n",
    "\n",
    "# Drop rows with no SMILES, no sequence, or no affinity\n",
    "df.dropna(subset=[\"Ligand SMILES\", \"BindingDB Target Chain Sequence\", \"affinity_nM\"], inplace=True)\n",
    "\n",
    "# Create the binary label\n",
    "df[\"binary_label\"] = df[\"affinity_nM\"].apply(lambda x: 1 if x < 1000 else 0)\n",
    "\n",
    "\n",
    "df.tail(10)"
   ]
  },
  {
   "cell_type": "code",
   "execution_count": 7,
   "id": "aafaa035",
   "metadata": {},
   "outputs": [
    {
     "name": "stderr",
     "output_type": "stream",
     "text": [
      "/tmp/ipykernel_1484186/1244432521.py:4: FutureWarning: \n",
      "\n",
      "Passing `palette` without assigning `hue` is deprecated and will be removed in v0.14.0. Assign the `x` variable to `hue` and set `legend=False` for the same effect.\n",
      "\n",
      "  sns.countplot(x=\"binary_label\", data=df, palette=\"Set2\")\n"
     ]
    },
    {
     "data": {
      "image/png": "[encoded data removed]",
      "text/plain": [
       "<Figure size 800x600 with 1 Axes>"
      ]
     },
     "metadata": {},
     "output_type": "display_data"
    }
   ],
   "source": [
    "# Create a graph of the nuber of 0 in binary label and the number of 1 in binary label\n",
    "sns.set(style=\"whitegrid\")\n",
    "plt.figure(figsize=(8, 6))\n",
    "sns.countplot(x=\"binary_label\", data=df, palette=\"Set2\")\n",
    "plt.title(\"Distribution of Binary Labels\")\n",
    "plt.xlabel(\"Binary Label (0: affinity >= 1000 nM, 1: affinity < 1000 nM)\")\n",
    "plt.ylabel(\"Count\")\n",
    "plt.xticks([0, 1], [\"Affinity >= 1000 nM\", \"Affinity < 1000 nM\"])\n",
    "plt.show()\n"
   ]
  },
  {
   "cell_type": "code",
   "execution_count": 8,
   "id": "11168349",
   "metadata": {},
   "outputs": [
    {
     "name": "stdout",
     "output_type": "stream",
     "text": [
      "Data cleaned and saved to ../data/processed/BindingDB_cleaned_triplets.tsv\n"
     ]
    }
   ],
   "source": [
    "# Export the cleaned data, we want to keep the binary label, the SMILES and the sequence only \n",
    "df_cleaned = df[[\"Ligand SMILES\", \"BindingDB Target Chain Sequence\", \"binary_label\"]]\n",
    "# Rename columns for clarity\n",
    "df_cleaned.columns = [\"Ligand_SMILES\", \"BindingDB_Target_Chain_Sequence\", \"binary_label\"]\n",
    "# Save the cleaned data\n",
    "df_cleaned.reset_index(drop=True, inplace=True)\n",
    "df_cleaned.to_csv(\"../data/processed/BindingDB_cleaned_triplets.tsv\", sep=\"\\t\", index=False)\n",
    "print(\"Data cleaned and saved to ../data/processed/BindingDB_cleaned_triplets.tsv\")\n"
   ]
  },
  {
   "cell_type": "code",
   "execution_count": 9,
   "id": "df493786",
   "metadata": {},
   "outputs": [
    {
     "name": "stdout",
     "output_type": "stream",
     "text": [
      "42657\n",
      "0    COc1cc2c(Nc3cc(OC)c(OC)c(OC)c3)c(cnc2cc1OCCCN1...\n",
      "1    COCCOc1cc2ncc(C#N)c(Nc3cc(OC)c(Cl)cc3Cl)c2cc1O...\n",
      "2       COCCOc1cc2ncc(C#N)c(Nc3ccc(Cl)cc3Cl)c2cc1OCCOC\n",
      "3    COCCOc1cc2ncc(C#N)c(Nc3cc(OC)c(OC)c(OC)c3)c2cc...\n",
      "4      COCCOc1cc2ncc(C#N)c(Nc3cc(OC)c(Cl)cc3Cl)c2cc1OC\n",
      "5          COCCOc1cc2ncc(C#N)c(Nc3ccc(Cl)cc3Cl)c2cc1OC\n",
      "6    COCCOc1cc2ncc(C#N)c(Nc3cc(OC)c(OC)c(OC)c3)c2cc1OC\n",
      "7    COc1cc(Nc2c(cnc3cc(OCC4CCN(C)CC4)c(OC)cc23)C#N...\n",
      "8    COc1cc2c(Nc3ccc(Cl)cc3Cl)c(cnc2cc1OCC1CCN(C)CC...\n",
      "9    COc1cc2c(Nc3cc(OC)c(OC)c(OC)c3)c(cnc2cc1OCC1CC...\n",
      "Name: Ligand_SMILES, dtype: object\n"
     ]
    }
   ],
   "source": [
    "print(df_cleaned[\"Ligand_SMILES\"].nunique())\n",
    "print(df_cleaned[\"Ligand_SMILES\"].head(10))"
   ]
  }
 ],
 "metadata": {
  "kernelspec": {
   "display_name": ".venv",
   "language": "python",
   "name": "python3"
  },
  "language_info": {
   "codemirror_mode": {
    "name": "ipython",
    "version": 3
   },
   "file_extension": ".py",
   "mimetype": "text/x-python",
   "name": "python",
   "nbconvert_exporter": "python",
   "pygments_lexer": "ipython3",
   "version": "3.12.3"
  }
 },
 "nbformat": 4,
 "nbformat_minor": 5
}
